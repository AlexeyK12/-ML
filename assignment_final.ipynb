{
 "cells": [
  {
   "cell_type": "markdown",
   "metadata": {},
   "source": [
    "## Финальное соревнование\n",
    "\n",
    "##### Автор: [Радослав Нейчев](https://www.linkedin.com/in/radoslav-neychev/), @neychev"
   ]
  },
  {
   "cell_type": "code",
   "execution_count": 11,
   "metadata": {},
   "outputs": [
    {
     "ename": "AttributeError",
     "evalue": "'tuple' object has no attribute 'plot'",
     "output_type": "error",
     "traceback": [
      "\u001b[1;31m---------------------------------------------------------------------------\u001b[0m",
      "\u001b[1;31mAttributeError\u001b[0m                            Traceback (most recent call last)",
      "Cell \u001b[1;32mIn[11], line 8\u001b[0m\n\u001b[0;32m      5\u001b[0m \u001b[38;5;28;01mimport\u001b[39;00m \u001b[38;5;21;01mmatplotlib\u001b[39;00m\u001b[38;5;21;01m.\u001b[39;00m\u001b[38;5;21;01mpyplot\u001b[39;00m \u001b[38;5;28;01mas\u001b[39;00m \u001b[38;5;21;01mplt\u001b[39;00m\n\u001b[0;32m      6\u001b[0m \u001b[38;5;66;03m#sns.boxplot(l)\u001b[39;00m\n\u001b[0;32m      7\u001b[0m \u001b[38;5;66;03m#plt.grid()\u001b[39;00m\n\u001b[1;32m----> 8\u001b[0m \u001b[43ml\u001b[49m\u001b[38;5;241;43m.\u001b[39;49m\u001b[43mplot\u001b[49m()\n\u001b[0;32m      9\u001b[0m \u001b[38;5;66;03m#median_value = statistics.median(l)\u001b[39;00m\n\u001b[0;32m     10\u001b[0m \n\u001b[0;32m     11\u001b[0m \u001b[38;5;66;03m#print(median_value)\u001b[39;00m\n",
      "\u001b[1;31mAttributeError\u001b[0m: 'tuple' object has no attribute 'plot'"
     ]
    }
   ],
   "source": [
    "import statistics\n",
    "\n",
    "l = (52, 49, 31, 53, 44, 36, 50, 50, 43, 44, 45, 43, 52, 48, 42)\n",
    "import seaborn as sns\n",
    "import matplotlib.pyplot as plt\n",
    "#sns.boxplot(l)\n",
    "#plt.grid()\n",
    "\n",
    "#median_value = statistics.median(l)\n",
    "\n",
    "#print(median_value)"
   ]
  },
  {
   "cell_type": "markdown",
   "metadata": {},
   "source": [
    "В данном задании вас ждет неизвестная зависимость. Ваша основная задача: **построить две лучших модели**, минимизирующих среднеквадратичную ошибку (MSE):\n",
    "1. На первую модель не налагается ограничений.\n",
    "2. Вторая модель должна быть **линейной**, т.е. представлять собой линейную комбинацию признаков плюс свободный член: $\\boldsymbol{w}^{\\top}\\boldsymbol{x} + b$. При этом __вы можете использовать базовые математические операции для преобразования признаков__: np.exp, np.log, np.pow (полный список доступен в [документации](https://numpy.org/doc/stable/reference/routines.math.html)), а также линейные операции над ними (сумма, умножение на число и пр.). Для преобразования признаков вам будет необходимо написать функцию `my_transformation`. __Кол-во параметров (весов) используемых второй моделью не должно превышать 15 (включая свободный член).__\n",
    "\n",
    "Настоятельно рекомендуем написать код \"с нуля\", лишь поглядывая на готовые примеры, а не просто \"скопировать-вставить\". Это поможет вам в будущем писать код более уверенно"
   ]
  },
  {
   "cell_type": "code",
   "execution_count": 1,
   "metadata": {},
   "outputs": [
    {
     "data": {
      "text/html": [
       "<style>.container { width:70% !important; }</style>"
      ],
      "text/plain": [
       "<IPython.core.display.HTML object>"
      ]
     },
     "metadata": {},
     "output_type": "display_data"
    },
    {
     "data": {
      "application/javascript": [
       "IPython.notebook.set_autosave_interval(60000)"
      ]
     },
     "metadata": {},
     "output_type": "display_data"
    },
    {
     "name": "stdout",
     "output_type": "stream",
     "text": [
      "Autosaving every 60 seconds\n"
     ]
    }
   ],
   "source": [
    "import pandas as pd\n",
    "import numpy as np\n",
    "import seaborn as sns\n",
    "\n",
    "import os\n",
    "import json\n",
    "\n",
    "import numpy as np\n",
    "from matplotlib import pyplot as plt\n",
    "from sklearn.linear_model import Ridge\n",
    "from sklearn.linear_model import LinearRegression, Lasso\n",
    "from sklearn.ensemble import RandomForestRegressor\n",
    "from sklearn.metrics import mean_squared_error\n",
    "from sklearn.model_selection import train_test_split\n",
    "\n",
    "from catboost import CatBoostRegressor\n",
    "import xgboost as xgb\n",
    "from xgboost import XGBRegressor\n",
    "from lightgbm import LGBMRegressor\n",
    "\n",
    "import warnings\n",
    "from IPython.display import display, HTML, Javascript\n",
    "display(HTML(\"<style>.container { width:70% !important; }</style>\"))\n",
    "pd.options.display.max_columns = None\n",
    "warnings.filterwarnings('ignore') \n",
    "%autosave 60"
   ]
  },
  {
   "cell_type": "markdown",
   "metadata": {},
   "source": [
    "Загрузка данных происходит ниже. Если она не срабатывает, самостоятельно скачайте файл `hw_final_open_data.npy` и положите его в ту же директорию, что и ноутбук."
   ]
  },
  {
   "cell_type": "code",
   "execution_count": 2,
   "metadata": {},
   "outputs": [
    {
     "name": "stderr",
     "output_type": "stream",
     "text": [
      "\"wget\" ­Ґ пў«пҐвбп ў­гваҐ­­Ґ© Ё«Ё ў­Ґи­Ґ©\n",
      "Є®¬ ­¤®©, ЁбЇ®«­пҐ¬®© Їа®Ја ¬¬®© Ё«Ё Ї ЄҐв­л¬ д ©«®¬.\n",
      "\"wget\" ­Ґ пў«пҐвбп ў­гваҐ­­Ґ© Ё«Ё ў­Ґи­Ґ©\n",
      "Є®¬ ­¤®©, ЁбЇ®«­пҐ¬®© Їа®Ја ¬¬®© Ё«Ё Ї ЄҐв­л¬ д ©«®¬.\n"
     ]
    }
   ],
   "source": [
    "!wget https://raw.githubusercontent.com/girafe-ai/ml-course/23f_yandex_ml_trainings/homeworks/assignment_final/hw_final_open_data.npy -O hw_final_open_data.npy\n",
    "!wget https://raw.githubusercontent.com/girafe-ai/ml-course/23f_yandex_ml_trainings/homeworks/assignment_final/hw_final_open_target.npy -O hw_final_open_data.npy"
   ]
  },
  {
   "cell_type": "code",
   "execution_count": 18,
   "metadata": {},
   "outputs": [],
   "source": [
    "data = np.load(r\"C:\\Users\\123123\\Downloads\\Тренировки ML\\Финальное соревнование\\hw_final_open_data.npy\")\n",
    "df = pd.DataFrame(data)\n",
    "\n",
    "targ = np.load(r\"C:\\Users\\123123\\Downloads\\Тренировки ML\\Финальное соревнование\\hw_final_open_target.npy\")\n",
    "target = pd.DataFrame(targ)\n",
    "target.rename(columns={0:'target'}, inplace=True)\n",
    "\n",
    "test_1 = np.load(r\"C:\\Users\\123123\\Downloads\\Тренировки ML\\Финальное соревнование\\hw_final_closed_data.npy\")\n",
    "test = pd.DataFrame(test_1)"
   ]
  },
  {
   "cell_type": "markdown",
   "metadata": {
    "scrolled": false
   },
   "source": [
    "for column in train.columns:\n",
    "    if column != 'target':  \n",
    "        plt.figure(figsize=(8, 6))\n",
    "        sns.scatterplot(x=train[column], y=train['target'])\n",
    "        plt.title(f'Scatterplot for {column} vs target')\n",
    "        plt.xlabel(column)\n",
    "        plt.ylabel('target')\n",
    "        plt.show()"
   ]
  },
  {
   "cell_type": "markdown",
   "metadata": {},
   "source": [
    "for column in train.columns:\n",
    "    plt.figure(figsize=(8, 6))\n",
    "    sns.boxplot(x=train[column])\n",
    "    plt.title(f'Boxplot for {column}')\n",
    "    plt.xlabel(column)\n",
    "    plt.show()"
   ]
  },
  {
   "cell_type": "markdown",
   "metadata": {
    "scrolled": false
   },
   "source": [
    "for column in train.columns:\n",
    "    plt.figure(figsize=(8, 6))\n",
    "    sns.boxplot(x=test[column])\n",
    "    plt.title(f'Boxplot for {column}')\n",
    "    plt.xlabel(column)\n",
    "    plt.show()"
   ]
  },
  {
   "cell_type": "code",
   "execution_count": 19,
   "metadata": {},
   "outputs": [
    {
     "name": "stdout",
     "output_type": "stream",
     "text": [
      "<class 'pandas.core.frame.DataFrame'>\n",
      "RangeIndex: 800 entries, 0 to 799\n",
      "Data columns (total 8 columns):\n",
      " #   Column  Non-Null Count  Dtype  \n",
      "---  ------  --------------  -----  \n",
      " 0   0       800 non-null    float64\n",
      " 1   1       800 non-null    float64\n",
      " 2   2       800 non-null    float64\n",
      " 3   3       800 non-null    float64\n",
      " 4   4       800 non-null    float64\n",
      " 5   5       800 non-null    float64\n",
      " 6   6       800 non-null    float64\n",
      " 7   target  800 non-null    float64\n",
      "dtypes: float64(8)\n",
      "memory usage: 50.1 KB\n"
     ]
    }
   ],
   "source": [
    "train = pd.concat([df, target], axis=1)\n",
    "train.info()"
   ]
  },
  {
   "cell_type": "code",
   "execution_count": 20,
   "metadata": {},
   "outputs": [],
   "source": [
    "def preprocessing(data):\n",
    "    data[8] = data[0] + data[1]\n",
    "    data[9] = data[1] + data[2] + data[3] + data[4] + data[5] + data[6]\n",
    "    return data"
   ]
  },
  {
   "cell_type": "code",
   "execution_count": 21,
   "metadata": {},
   "outputs": [
    {
     "data": {
      "text/html": [
       "<div>\n",
       "<style scoped>\n",
       "    .dataframe tbody tr th:only-of-type {\n",
       "        vertical-align: middle;\n",
       "    }\n",
       "\n",
       "    .dataframe tbody tr th {\n",
       "        vertical-align: top;\n",
       "    }\n",
       "\n",
       "    .dataframe thead th {\n",
       "        text-align: right;\n",
       "    }\n",
       "</style>\n",
       "<table border=\"1\" class=\"dataframe\">\n",
       "  <thead>\n",
       "    <tr style=\"text-align: right;\">\n",
       "      <th></th>\n",
       "      <th>0</th>\n",
       "      <th>1</th>\n",
       "      <th>2</th>\n",
       "      <th>3</th>\n",
       "      <th>4</th>\n",
       "      <th>5</th>\n",
       "      <th>6</th>\n",
       "      <th>8</th>\n",
       "      <th>9</th>\n",
       "    </tr>\n",
       "  </thead>\n",
       "  <tbody>\n",
       "    <tr>\n",
       "      <th>0</th>\n",
       "      <td>-0.565814</td>\n",
       "      <td>-0.430544</td>\n",
       "      <td>-0.56863</td>\n",
       "      <td>-0.379486</td>\n",
       "      <td>-0.527420</td>\n",
       "      <td>-0.160691</td>\n",
       "      <td>-0.575438</td>\n",
       "      <td>-0.996358</td>\n",
       "      <td>-2.642209</td>\n",
       "    </tr>\n",
       "    <tr>\n",
       "      <th>1</th>\n",
       "      <td>-0.562880</td>\n",
       "      <td>-0.051177</td>\n",
       "      <td>-0.56863</td>\n",
       "      <td>-0.134094</td>\n",
       "      <td>-0.506339</td>\n",
       "      <td>0.795601</td>\n",
       "      <td>-0.575438</td>\n",
       "      <td>-0.614058</td>\n",
       "      <td>-1.040076</td>\n",
       "    </tr>\n",
       "    <tr>\n",
       "      <th>2</th>\n",
       "      <td>-0.560292</td>\n",
       "      <td>0.987380</td>\n",
       "      <td>-0.56863</td>\n",
       "      <td>0.344372</td>\n",
       "      <td>-0.481199</td>\n",
       "      <td>3.249530</td>\n",
       "      <td>-0.575438</td>\n",
       "      <td>0.427087</td>\n",
       "      <td>2.956014</td>\n",
       "    </tr>\n",
       "    <tr>\n",
       "      <th>3</th>\n",
       "      <td>-0.561336</td>\n",
       "      <td>0.434373</td>\n",
       "      <td>-0.56863</td>\n",
       "      <td>0.107739</td>\n",
       "      <td>-0.492241</td>\n",
       "      <td>1.960089</td>\n",
       "      <td>-0.575438</td>\n",
       "      <td>-0.126963</td>\n",
       "      <td>0.865892</td>\n",
       "    </tr>\n",
       "    <tr>\n",
       "      <th>4</th>\n",
       "      <td>-0.563982</td>\n",
       "      <td>-0.249578</td>\n",
       "      <td>-0.56863</td>\n",
       "      <td>-0.251161</td>\n",
       "      <td>-0.515020</td>\n",
       "      <td>0.304072</td>\n",
       "      <td>-0.575438</td>\n",
       "      <td>-0.813561</td>\n",
       "      <td>-1.855756</td>\n",
       "    </tr>\n",
       "    <tr>\n",
       "      <th>...</th>\n",
       "      <td>...</td>\n",
       "      <td>...</td>\n",
       "      <td>...</td>\n",
       "      <td>...</td>\n",
       "      <td>...</td>\n",
       "      <td>...</td>\n",
       "      <td>...</td>\n",
       "      <td>...</td>\n",
       "      <td>...</td>\n",
       "    </tr>\n",
       "    <tr>\n",
       "      <th>795</th>\n",
       "      <td>-0.562995</td>\n",
       "      <td>-0.076328</td>\n",
       "      <td>-0.56863</td>\n",
       "      <td>-0.148095</td>\n",
       "      <td>-0.507292</td>\n",
       "      <td>0.733981</td>\n",
       "      <td>-0.575438</td>\n",
       "      <td>-0.639323</td>\n",
       "      <td>-1.141801</td>\n",
       "    </tr>\n",
       "    <tr>\n",
       "      <th>796</th>\n",
       "      <td>-0.566049</td>\n",
       "      <td>-0.445115</td>\n",
       "      <td>-0.56863</td>\n",
       "      <td>-0.391541</td>\n",
       "      <td>-0.528851</td>\n",
       "      <td>-0.199316</td>\n",
       "      <td>-0.575438</td>\n",
       "      <td>-1.011164</td>\n",
       "      <td>-2.708890</td>\n",
       "    </tr>\n",
       "    <tr>\n",
       "      <th>797</th>\n",
       "      <td>-0.560825</td>\n",
       "      <td>0.675599</td>\n",
       "      <td>-0.56863</td>\n",
       "      <td>0.214591</td>\n",
       "      <td>-0.487007</td>\n",
       "      <td>2.526183</td>\n",
       "      <td>-0.575438</td>\n",
       "      <td>0.114774</td>\n",
       "      <td>1.785298</td>\n",
       "    </tr>\n",
       "    <tr>\n",
       "      <th>798</th>\n",
       "      <td>-0.561542</td>\n",
       "      <td>0.350201</td>\n",
       "      <td>-0.56863</td>\n",
       "      <td>0.068784</td>\n",
       "      <td>-0.494273</td>\n",
       "      <td>1.760945</td>\n",
       "      <td>-0.575438</td>\n",
       "      <td>-0.211341</td>\n",
       "      <td>0.541589</td>\n",
       "    </tr>\n",
       "    <tr>\n",
       "      <th>799</th>\n",
       "      <td>-0.564522</td>\n",
       "      <td>-0.318046</td>\n",
       "      <td>-0.56863</td>\n",
       "      <td>-0.296234</td>\n",
       "      <td>-0.518916</td>\n",
       "      <td>0.130764</td>\n",
       "      <td>-0.575438</td>\n",
       "      <td>-0.882567</td>\n",
       "      <td>-2.146500</td>\n",
       "    </tr>\n",
       "  </tbody>\n",
       "</table>\n",
       "<p>800 rows × 9 columns</p>\n",
       "</div>"
      ],
      "text/plain": [
       "            0         1        2         3         4         5         6  \\\n",
       "0   -0.565814 -0.430544 -0.56863 -0.379486 -0.527420 -0.160691 -0.575438   \n",
       "1   -0.562880 -0.051177 -0.56863 -0.134094 -0.506339  0.795601 -0.575438   \n",
       "2   -0.560292  0.987380 -0.56863  0.344372 -0.481199  3.249530 -0.575438   \n",
       "3   -0.561336  0.434373 -0.56863  0.107739 -0.492241  1.960089 -0.575438   \n",
       "4   -0.563982 -0.249578 -0.56863 -0.251161 -0.515020  0.304072 -0.575438   \n",
       "..        ...       ...      ...       ...       ...       ...       ...   \n",
       "795 -0.562995 -0.076328 -0.56863 -0.148095 -0.507292  0.733981 -0.575438   \n",
       "796 -0.566049 -0.445115 -0.56863 -0.391541 -0.528851 -0.199316 -0.575438   \n",
       "797 -0.560825  0.675599 -0.56863  0.214591 -0.487007  2.526183 -0.575438   \n",
       "798 -0.561542  0.350201 -0.56863  0.068784 -0.494273  1.760945 -0.575438   \n",
       "799 -0.564522 -0.318046 -0.56863 -0.296234 -0.518916  0.130764 -0.575438   \n",
       "\n",
       "            8         9  \n",
       "0   -0.996358 -2.642209  \n",
       "1   -0.614058 -1.040076  \n",
       "2    0.427087  2.956014  \n",
       "3   -0.126963  0.865892  \n",
       "4   -0.813561 -1.855756  \n",
       "..        ...       ...  \n",
       "795 -0.639323 -1.141801  \n",
       "796 -1.011164 -2.708890  \n",
       "797  0.114774  1.785298  \n",
       "798 -0.211341  0.541589  \n",
       "799 -0.882567 -2.146500  \n",
       "\n",
       "[800 rows x 9 columns]"
      ]
     },
     "execution_count": 21,
     "metadata": {},
     "output_type": "execute_result"
    }
   ],
   "source": [
    "df = preprocessing(df)\n",
    "df"
   ]
  },
  {
   "cell_type": "code",
   "execution_count": 22,
   "metadata": {},
   "outputs": [],
   "source": [
    "#X = train.drop(columns='target')  \n",
    "#y = train['target']  \n",
    "\n",
    "X_train, X_test, y_train, y_test = train_test_split(df, target, test_size=0.2, random_state=42)"
   ]
  },
  {
   "cell_type": "code",
   "execution_count": 23,
   "metadata": {},
   "outputs": [
    {
     "name": "stdout",
     "output_type": "stream",
     "text": [
      "<class 'pandas.core.frame.DataFrame'>\n",
      "RangeIndex: 800 entries, 0 to 799\n",
      "Data columns (total 9 columns):\n",
      " #   Column  Non-Null Count  Dtype  \n",
      "---  ------  --------------  -----  \n",
      " 0   0       800 non-null    float64\n",
      " 1   1       800 non-null    float64\n",
      " 2   2       800 non-null    float64\n",
      " 3   3       800 non-null    float64\n",
      " 4   4       800 non-null    float64\n",
      " 5   5       800 non-null    float64\n",
      " 6   6       800 non-null    float64\n",
      " 7   8       800 non-null    float64\n",
      " 8   9       800 non-null    float64\n",
      "dtypes: float64(9)\n",
      "memory usage: 56.4 KB\n"
     ]
    }
   ],
   "source": [
    "df.info()"
   ]
  },
  {
   "cell_type": "code",
   "execution_count": 24,
   "metadata": {},
   "outputs": [
    {
     "name": "stdout",
     "output_type": "stream",
     "text": [
      "Learning rate set to 0.24806\n",
      "0:\tlearn: 1.6814888\ttotal: 1.67ms\tremaining: 165ms\n",
      "10:\tlearn: 0.3312356\ttotal: 17.1ms\tremaining: 138ms\n",
      "20:\tlearn: 0.2981454\ttotal: 32ms\tremaining: 120ms\n",
      "30:\tlearn: 0.2922838\ttotal: 46.5ms\tremaining: 103ms\n",
      "40:\tlearn: 0.2849338\ttotal: 60.9ms\tremaining: 87.6ms\n",
      "50:\tlearn: 0.2796721\ttotal: 75ms\tremaining: 72.1ms\n",
      "60:\tlearn: 0.2766406\ttotal: 88.1ms\tremaining: 56.3ms\n",
      "70:\tlearn: 0.2724939\ttotal: 101ms\tremaining: 41.4ms\n",
      "80:\tlearn: 0.2687567\ttotal: 113ms\tremaining: 26.6ms\n",
      "90:\tlearn: 0.2656014\ttotal: 125ms\tremaining: 12.4ms\n",
      "99:\tlearn: 0.2638261\ttotal: 137ms\tremaining: 0us\n",
      "MSE для CatBoostRegressor: 0.10220842739386234\n",
      "MSE для Ridge: 0.09489847016066782\n",
      "MSE для LinearRegression: 0.09551844682324234\n",
      "MSE для Lasso: 0.38385265381475986\n"
     ]
    }
   ],
   "source": [
    "cat_col = train.select_dtypes(include=['object']).columns.to_list()\n",
    "models = [CatBoostRegressor(n_estimators=100, verbose=10, random_seed=42, cat_features=cat_col),\n",
    "          Ridge(),\n",
    "          LinearRegression(),\n",
    "          Lasso()]\n",
    "\n",
    "for model in models:\n",
    "    model.fit(X_train, y_train)\n",
    "    y_prediction = model.predict(X_test)\n",
    "    mse = mean_squared_error(y_test, y_prediction)\n",
    "    print(f'MSE для {model.__class__.__name__}: {mse}')"
   ]
  },
  {
   "cell_type": "code",
   "execution_count": 49,
   "metadata": {},
   "outputs": [],
   "source": [
    "assert os.path.exists('hw_final_open_data.npy'), 'Please, download `hw_final_open_data.npy` and place it in the working directory'\n",
    "assert os.path.exists('hw_final_open_target.npy'), 'Please, download `hw_final_open_target.npy` and place it in the working directory'\n",
    "data = np.load('hw_final_open_data.npy', allow_pickle=False)\n",
    "target = np.load('hw_final_open_target.npy', allow_pickle=False)"
   ]
  },
  {
   "cell_type": "markdown",
   "metadata": {},
   "source": [
    "Разбивка на `train` и `val` опциональна и сделана для вашего удобства."
   ]
  },
  {
   "cell_type": "code",
   "execution_count": 50,
   "metadata": {},
   "outputs": [],
   "source": [
    "train_x, valid_x, train_y, valid_y = train_test_split(data, target, test_size=0.3)"
   ]
  },
  {
   "cell_type": "markdown",
   "metadata": {},
   "source": [
    "### Модель №1\n",
    "Напоминаем, в первой части задания ваша основная задача – получить наилучший результат без ограничений на модель. Сдаваться будут только предсказания модели.\n",
    "\n",
    "Пример с использованием Random Forest доступен ниже."
   ]
  },
  {
   "cell_type": "code",
   "execution_count": 27,
   "metadata": {},
   "outputs": [
    {
     "name": "stdout",
     "output_type": "stream",
     "text": [
      "train mse =\t 0.18842\n",
      "validation mse = 0.24583\n"
     ]
    }
   ],
   "source": [
    "rf = Ridge()\n",
    "rf.fit(train_x, train_y)\n",
    "\n",
    "print(\n",
    "    f'train mse =\\t {mean_squared_error(np.round(rf.predict(train_x), 2), np.round(train_y)):.5f}',\n",
    "    f'validation mse = {mean_squared_error(np.round(rf.predict(valid_x)), np.round(valid_y)):.5f}',\n",
    "    sep='\\n'\n",
    ")"
   ]
  },
  {
   "cell_type": "markdown",
   "metadata": {},
   "source": [
    "##### Сдача первой части соревнования\n",
    "Загрузите файл `hw_final_closed_data.npy` (ссылка есть на странице с заданием). Если вы используете sklearn-совместимую модель, для генерации посылки вы можете воспользоваться функцией `get_predictions`. В ином случае перепишите функцию для вашей модели и запустите код под следующей ячейкой для генерации посылки."
   ]
  },
  {
   "cell_type": "code",
   "execution_count": 28,
   "metadata": {},
   "outputs": [
    {
     "name": "stderr",
     "output_type": "stream",
     "text": [
      "\"wget\" ­Ґ пў«пҐвбп ў­гваҐ­­Ґ© Ё«Ё ў­Ґи­Ґ©\n",
      "Є®¬ ­¤®©, ЁбЇ®«­пҐ¬®© Їа®Ја ¬¬®© Ё«Ё Ї ЄҐв­л¬ д ©«®¬.\n"
     ]
    }
   ],
   "source": [
    "!wget https://raw.githubusercontent.com/girafe-ai/ml-course/23f_yandex_ml_trainings/homeworks/assignment_final/hw_final_closed_data.npy -O hw_final_closed_data.npy"
   ]
  },
  {
   "cell_type": "code",
   "execution_count": 59,
   "metadata": {},
   "outputs": [],
   "source": [
    "assert os.path.exists('hw_final_closed_data.npy'), 'Please, download `hw_final_closed_data.npy` and place it in the working directory'\n",
    "closed_data = np.load('hw_final_closed_data.npy', allow_pickle=False)\n",
    "#closed_data = preprocessing(closed_data)\n",
    "#closed_data = pd.DataFrame(closed_data)"
   ]
  },
  {
   "cell_type": "code",
   "execution_count": 35,
   "metadata": {},
   "outputs": [
    {
     "data": {
      "text/html": [
       "<div>\n",
       "<style scoped>\n",
       "    .dataframe tbody tr th:only-of-type {\n",
       "        vertical-align: middle;\n",
       "    }\n",
       "\n",
       "    .dataframe tbody tr th {\n",
       "        vertical-align: top;\n",
       "    }\n",
       "\n",
       "    .dataframe thead th {\n",
       "        text-align: right;\n",
       "    }\n",
       "</style>\n",
       "<table border=\"1\" class=\"dataframe\">\n",
       "  <thead>\n",
       "    <tr style=\"text-align: right;\">\n",
       "      <th></th>\n",
       "      <th>0</th>\n",
       "      <th>1</th>\n",
       "      <th>2</th>\n",
       "      <th>3</th>\n",
       "      <th>4</th>\n",
       "      <th>5</th>\n",
       "      <th>6</th>\n",
       "      <th>8</th>\n",
       "      <th>9</th>\n",
       "    </tr>\n",
       "  </thead>\n",
       "  <tbody>\n",
       "    <tr>\n",
       "      <th>0</th>\n",
       "      <td>-0.559878</td>\n",
       "      <td>1.281356</td>\n",
       "      <td>-0.56863</td>\n",
       "      <td>0.460149</td>\n",
       "      <td>-0.476420</td>\n",
       "      <td>3.924734</td>\n",
       "      <td>-0.575438</td>\n",
       "      <td>0.721478</td>\n",
       "      <td>4.045751</td>\n",
       "    </tr>\n",
       "    <tr>\n",
       "      <th>1</th>\n",
       "      <td>-0.561259</td>\n",
       "      <td>0.467296</td>\n",
       "      <td>-0.56863</td>\n",
       "      <td>0.122720</td>\n",
       "      <td>-0.491478</td>\n",
       "      <td>2.037739</td>\n",
       "      <td>-0.575438</td>\n",
       "      <td>-0.093963</td>\n",
       "      <td>0.992209</td>\n",
       "    </tr>\n",
       "    <tr>\n",
       "      <th>2</th>\n",
       "      <td>-0.564778</td>\n",
       "      <td>-0.345467</td>\n",
       "      <td>-0.56863</td>\n",
       "      <td>-0.315276</td>\n",
       "      <td>-0.520689</td>\n",
       "      <td>0.060612</td>\n",
       "      <td>-0.575438</td>\n",
       "      <td>-0.910245</td>\n",
       "      <td>-2.264887</td>\n",
       "    </tr>\n",
       "    <tr>\n",
       "      <th>3</th>\n",
       "      <td>-0.559726</td>\n",
       "      <td>1.401775</td>\n",
       "      <td>-0.56863</td>\n",
       "      <td>0.506055</td>\n",
       "      <td>-0.474613</td>\n",
       "      <td>4.199694</td>\n",
       "      <td>-0.575438</td>\n",
       "      <td>0.842049</td>\n",
       "      <td>4.488843</td>\n",
       "    </tr>\n",
       "    <tr>\n",
       "      <th>4</th>\n",
       "      <td>-0.559901</td>\n",
       "      <td>1.263218</td>\n",
       "      <td>-0.56863</td>\n",
       "      <td>0.453163</td>\n",
       "      <td>-0.476699</td>\n",
       "      <td>3.883242</td>\n",
       "      <td>-0.575438</td>\n",
       "      <td>0.703317</td>\n",
       "      <td>3.978856</td>\n",
       "    </tr>\n",
       "    <tr>\n",
       "      <th>...</th>\n",
       "      <td>...</td>\n",
       "      <td>...</td>\n",
       "      <td>...</td>\n",
       "      <td>...</td>\n",
       "      <td>...</td>\n",
       "      <td>...</td>\n",
       "      <td>...</td>\n",
       "      <td>...</td>\n",
       "      <td>...</td>\n",
       "    </tr>\n",
       "    <tr>\n",
       "      <th>195</th>\n",
       "      <td>-0.562022</td>\n",
       "      <td>0.180290</td>\n",
       "      <td>-0.56863</td>\n",
       "      <td>-0.013141</td>\n",
       "      <td>-0.498809</td>\n",
       "      <td>1.355861</td>\n",
       "      <td>-0.575438</td>\n",
       "      <td>-0.381732</td>\n",
       "      <td>-0.119867</td>\n",
       "    </tr>\n",
       "    <tr>\n",
       "      <th>196</th>\n",
       "      <td>-0.566792</td>\n",
       "      <td>-0.482617</td>\n",
       "      <td>-0.56863</td>\n",
       "      <td>-0.424728</td>\n",
       "      <td>-0.533172</td>\n",
       "      <td>-0.300128</td>\n",
       "      <td>-0.575438</td>\n",
       "      <td>-1.049409</td>\n",
       "      <td>-2.884714</td>\n",
       "    </tr>\n",
       "    <tr>\n",
       "      <th>197</th>\n",
       "      <td>-0.560755</td>\n",
       "      <td>0.712904</td>\n",
       "      <td>-0.56863</td>\n",
       "      <td>0.230566</td>\n",
       "      <td>-0.486263</td>\n",
       "      <td>2.613184</td>\n",
       "      <td>-0.575438</td>\n",
       "      <td>0.152149</td>\n",
       "      <td>1.926323</td>\n",
       "    </tr>\n",
       "    <tr>\n",
       "      <th>198</th>\n",
       "      <td>-0.560232</td>\n",
       "      <td>1.027075</td>\n",
       "      <td>-0.56863</td>\n",
       "      <td>0.360342</td>\n",
       "      <td>-0.480519</td>\n",
       "      <td>3.341058</td>\n",
       "      <td>-0.575438</td>\n",
       "      <td>0.466843</td>\n",
       "      <td>3.103888</td>\n",
       "    </tr>\n",
       "    <tr>\n",
       "      <th>199</th>\n",
       "      <td>-0.560247</td>\n",
       "      <td>1.017125</td>\n",
       "      <td>-0.56863</td>\n",
       "      <td>0.356350</td>\n",
       "      <td>-0.480688</td>\n",
       "      <td>3.318126</td>\n",
       "      <td>-0.575438</td>\n",
       "      <td>0.456878</td>\n",
       "      <td>3.066845</td>\n",
       "    </tr>\n",
       "  </tbody>\n",
       "</table>\n",
       "<p>200 rows × 9 columns</p>\n",
       "</div>"
      ],
      "text/plain": [
       "            0         1        2         3         4         5         6  \\\n",
       "0   -0.559878  1.281356 -0.56863  0.460149 -0.476420  3.924734 -0.575438   \n",
       "1   -0.561259  0.467296 -0.56863  0.122720 -0.491478  2.037739 -0.575438   \n",
       "2   -0.564778 -0.345467 -0.56863 -0.315276 -0.520689  0.060612 -0.575438   \n",
       "3   -0.559726  1.401775 -0.56863  0.506055 -0.474613  4.199694 -0.575438   \n",
       "4   -0.559901  1.263218 -0.56863  0.453163 -0.476699  3.883242 -0.575438   \n",
       "..        ...       ...      ...       ...       ...       ...       ...   \n",
       "195 -0.562022  0.180290 -0.56863 -0.013141 -0.498809  1.355861 -0.575438   \n",
       "196 -0.566792 -0.482617 -0.56863 -0.424728 -0.533172 -0.300128 -0.575438   \n",
       "197 -0.560755  0.712904 -0.56863  0.230566 -0.486263  2.613184 -0.575438   \n",
       "198 -0.560232  1.027075 -0.56863  0.360342 -0.480519  3.341058 -0.575438   \n",
       "199 -0.560247  1.017125 -0.56863  0.356350 -0.480688  3.318126 -0.575438   \n",
       "\n",
       "            8         9  \n",
       "0    0.721478  4.045751  \n",
       "1   -0.093963  0.992209  \n",
       "2   -0.910245 -2.264887  \n",
       "3    0.842049  4.488843  \n",
       "4    0.703317  3.978856  \n",
       "..        ...       ...  \n",
       "195 -0.381732 -0.119867  \n",
       "196 -1.049409 -2.884714  \n",
       "197  0.152149  1.926323  \n",
       "198  0.466843  3.103888  \n",
       "199  0.456878  3.066845  \n",
       "\n",
       "[200 rows x 9 columns]"
      ]
     },
     "execution_count": 35,
     "metadata": {},
     "output_type": "execute_result"
    }
   ],
   "source": [
    "closed_data = preprocessing(closed_data)\n",
    "closed_data"
   ]
  },
  {
   "cell_type": "markdown",
   "metadata": {},
   "source": [
    "Если необходимо, преобразуйте данные. Преобразованную матрицу объект-признак сохраните в переменную `closed_data`."
   ]
  },
  {
   "cell_type": "code",
   "execution_count": 36,
   "metadata": {},
   "outputs": [],
   "source": [
    "# optional transformations"
   ]
  },
  {
   "cell_type": "code",
   "execution_count": 45,
   "metadata": {},
   "outputs": [],
   "source": [
    "def get_predictions(model, eval_data, step=10):\n",
    "    predicted_values = model.predict(eval_data)\n",
    "    return predicted_values"
   ]
  },
  {
   "cell_type": "markdown",
   "metadata": {},
   "source": [
    "Обращаем ваше внимание, предсказания округляются до сотых!"
   ]
  },
  {
   "cell_type": "code",
   "execution_count": 38,
   "metadata": {},
   "outputs": [],
   "source": [
    "predicted_values = np.round(get_predictions(model=rf, eval_data=closed_data), 2)\n",
    "\n",
    "assert predicted_values.shape == (closed_data.shape[0], ) # predictions should be just one-dimensional array"
   ]
  },
  {
   "cell_type": "code",
   "execution_count": 39,
   "metadata": {},
   "outputs": [
    {
     "name": "stdout",
     "output_type": "stream",
     "text": [
      "File saved to `submission_dict_final_p01.npy`\n"
     ]
    }
   ],
   "source": [
    "# do not change the code in the block below\n",
    "# __________start of block__________\n",
    "def float_list_to_comma_separated_str(_list):\n",
    "    _list = list(np.round(np.array(_list), 2))\n",
    "    return ','.join([str(x) for x in _list])\n",
    "\n",
    "submission_dict = {\n",
    "    'predictions': float_list_to_comma_separated_str(predicted_values)\n",
    "}\n",
    "with open('submission_dict_final_p01.json', 'w') as iofile:\n",
    "    json.dump(submission_dict, iofile)\n",
    "    \n",
    "print('File saved to `submission_dict_final_p01.npy`')\n",
    "# __________end of block__________"
   ]
  },
  {
   "cell_type": "markdown",
   "metadata": {},
   "source": [
    "### Модель №2\n",
    "Функция `my_transformation` принимает на вход матрицу объект-признак (`numpy.ndarray` типа `np.float`) и преобразует ее в новую матрицу. Данная функция может использовать только numpy-операции, а также арифметические действия.\n",
    "\n",
    "Для примера доступна функция ниже. Она лишь добавляет новый признак, представляющий собой произведение первого и второго исходных признаков (считая с нуля)."
   ]
  },
  {
   "cell_type": "code",
   "execution_count": 66,
   "metadata": {},
   "outputs": [],
   "source": [
    "train_x, valid_x, train_y, valid_y = train_test_split(data, target, test_size=0.3)"
   ]
  },
  {
   "cell_type": "code",
   "execution_count": 67,
   "metadata": {},
   "outputs": [],
   "source": [
    "def my_transformation(feature_matrix: np.ndarray):\n",
    "    new_feature_matrix = np.zeros((feature_matrix.shape[0], feature_matrix.shape[1]+1))\n",
    "    new_feature_matrix[:, :feature_matrix.shape[1]] = feature_matrix\n",
    "    new_feature_matrix[:, -1] = feature_matrix[:, 0] * feature_matrix[:, 1]\n",
    "    new_feature_matrix[:, -2] = (feature_matrix[:, 0] * feature_matrix[:, 1] + feature_matrix[:, 2] * feature_matrix[:, 3]\n",
    "                                 + feature_matrix[:, 4] * feature_matrix[:, 5] + feature_matrix[:, 6])\n",
    "    return new_feature_matrix"
   ]
  },
  {
   "cell_type": "code",
   "execution_count": 68,
   "metadata": {},
   "outputs": [],
   "source": [
    "transformed_train_x = my_transformation(train_x)"
   ]
  },
  {
   "cell_type": "code",
   "execution_count": 69,
   "metadata": {},
   "outputs": [
    {
     "name": "stdout",
     "output_type": "stream",
     "text": [
      "train mse =\t 0.08883\n",
      "validation mse = 0.09272\n"
     ]
    }
   ],
   "source": [
    "lr = Ridge()\n",
    "lr.fit(transformed_train_x, train_y)\n",
    "\n",
    "print(\n",
    "    f'train mse =\\t {mean_squared_error(lr.predict(transformed_train_x), train_y):.5f}',\n",
    "    f'validation mse = {mean_squared_error(lr.predict(my_transformation(valid_x)), valid_y):.5f}',\n",
    "    sep='\\n'\n",
    ")"
   ]
  },
  {
   "cell_type": "markdown",
   "metadata": {},
   "source": [
    "Обращаем ваше внимание, что параметры линейной модели будут округляться до __четырех знаков после запятой__. Это не должно сильно повлиять на качество предсказаний:"
   ]
  },
  {
   "cell_type": "code",
   "execution_count": 70,
   "metadata": {},
   "outputs": [],
   "source": [
    "original_predictions = lr.predict(transformed_train_x)\n",
    "rounded_predictions = transformed_train_x.dot(np.round(lr.coef_, 4)) + np.round(lr.intercept_, 4)\n",
    "\n",
    "\n",
    "assert np.allclose(original_predictions, rounded_predictions, atol=1e-3)"
   ]
  },
  {
   "cell_type": "markdown",
   "metadata": {},
   "source": [
    "Параметры вашей модели:"
   ]
  },
  {
   "cell_type": "code",
   "execution_count": 71,
   "metadata": {},
   "outputs": [
    {
     "name": "stdout",
     "output_type": "stream",
     "text": [
      "w = [0.0084, 0.2445, 0.0, 0.3886, 0.0525, 0.8121, -0.8893, -0.1457]\n",
      "b = 1.118\n"
     ]
    }
   ],
   "source": [
    "w_list = list(np.round(lr.coef_, 4))\n",
    "print(f'w = {list(np.round(lr.coef_, 4))}\\nb = {np.round(lr.intercept_, 4)}')"
   ]
  },
  {
   "cell_type": "markdown",
   "metadata": {},
   "source": [
    "Напоминаем, ваша модель не должна использовать более 15 параметров (14 весов плюс свободный член)."
   ]
  },
  {
   "cell_type": "code",
   "execution_count": 72,
   "metadata": {},
   "outputs": [],
   "source": [
    "assert len(w_list) + 1 <= 15"
   ]
  },
  {
   "cell_type": "markdown",
   "metadata": {},
   "source": [
    "##### Сдача второй части соревнования\n",
    "Для сдачи вам достаточно отправить функцию `my_transformation` и параметры вашей модели в контест в задачу №2. Пример посылки доступен ниже"
   ]
  },
  {
   "cell_type": "code",
   "execution_count": 57,
   "metadata": {},
   "outputs": [],
   "source": [
    "# __________example_submission_start__________\n",
    "\n",
    "def my_transformation(feature_matrix: np.ndarray):\n",
    "    new_feature_matrix = np.zeros((feature_matrix.shape[0], feature_matrix.shape[1]+1))\n",
    "    new_feature_matrix[:, :feature_matrix.shape[1]] = feature_matrix\n",
    "    new_feature_matrix[:, -1] = feature_matrix[:, 0\n",
    "    ] * feature_matrix[:, 1]\n",
    "    return new_feature_matrix\n",
    "\n",
    "w_submission = [-0.0027, -0.2637, 0.0, -0.1134, -0.0165, -0.9329, 0.0, 0.1293]\n",
    "b_submission = 1.1312\n",
    "# __________example_submission_end__________"
   ]
  },
  {
   "cell_type": "markdown",
   "metadata": {},
   "source": [
    "На этом задание завершено. Поздравляем!"
   ]
  }
 ],
 "metadata": {
  "kernelspec": {
   "display_name": "Python 3 (ipykernel)",
   "language": "python",
   "name": "python3"
  },
  "language_info": {
   "codemirror_mode": {
    "name": "ipython",
    "version": 3
   },
   "file_extension": ".py",
   "mimetype": "text/x-python",
   "name": "python",
   "nbconvert_exporter": "python",
   "pygments_lexer": "ipython3",
   "version": "3.11.3"
  },
  "toc": {
   "base_numbering": 1,
   "nav_menu": {},
   "number_sections": true,
   "sideBar": true,
   "skip_h1_title": false,
   "title_cell": "Table of Contents",
   "title_sidebar": "Contents",
   "toc_cell": false,
   "toc_position": {},
   "toc_section_display": true,
   "toc_window_display": false
  }
 },
 "nbformat": 4,
 "nbformat_minor": 4
}
